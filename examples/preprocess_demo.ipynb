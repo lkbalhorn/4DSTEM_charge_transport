{
 "cells": [
  {
   "cell_type": "code",
   "execution_count": null,
   "metadata": {},
   "outputs": [],
   "source": [
    "import sys\n",
    "import numpy as np\n",
    "import matplotlib.pyplot as plt\n",
    "from matplotlib import collections as mc\n",
    "import scipy.signal as sig\n",
    "import sys\n",
    "import os\n",
    "import time\n",
    "from tqdm.notebook import tqdm, trange\n",
    "import importlib as imp\n",
    "import scipy.optimize as opt\n",
    "\n",
    "import preprocess_4dstem as prep\n",
    "imp.reload(prep)\n",
    "\n",
    "# Set matplotlib format\n",
    "SMALL_SIZE = 12\n",
    "MEDIUM_SIZE = 15\n",
    "BIGGER_SIZE = 18\n",
    "\n",
    "plt.rc('font', size=SMALL_SIZE)          # controls default text sizes\n",
    "plt.rc('axes', titlesize=SMALL_SIZE)     # fontsize of the axes title\n",
    "plt.rc('axes', labelsize=MEDIUM_SIZE)    # fontsize of the x and y labels\n",
    "plt.rc('xtick', labelsize=SMALL_SIZE)    # fontsize of the tick labels\n",
    "plt.rc('ytick', labelsize=SMALL_SIZE)    # fontsize of the tick labels\n",
    "plt.rc('legend', fontsize=SMALL_SIZE)    # legend fontsize\n",
    "plt.rc('figure', titlesize=BIGGER_SIZE)  # fontsize of the figure title"
   ]
  },
  {
   "cell_type": "markdown",
   "metadata": {},
   "source": [
    "# Process Overview"
   ]
  },
  {
   "cell_type": "markdown",
   "metadata": {},
   "source": [
    "This notebook is a companion to \"preprocess_4dstem.py\" and provides a sample workflow for that module.      \n",
    "    \n",
    "Preprocessing 4D-STEM data can use a lot of RAM.  This program is organized in a way that reduces RAM use, so the total\n",
    "RAM use should only be 2-3x the size of the original file.  To do this, instead of saving a new set of images to memory\n",
    "after each step (centering, artifact subtraction, etc), the modifications are tabulated and only applied when necessary.  \n",
    "For example, Box 1 calculates the centers of each image, but doesn't save the centered images to memory - it simply\n",
    "records the image centers to that they can be used as needed.  The same is done for artifact subtraction.  "
   ]
  },
  {
   "cell_type": "markdown",
   "metadata": {},
   "source": [
    "# Input Parameters"
   ]
  },
  {
   "cell_type": "code",
   "execution_count": null,
   "metadata": {},
   "outputs": [],
   "source": [
    "# These can be defined manually, or captured from your DM4 file or filename using automated\n",
    "# scripts.  Be aware that metadata in DM4 files is organized inconsistently.  \n",
    "\n",
    "# File System\n",
    "filename = \"sample_4dstem_data_80x80_ss=10_cl=480.dm4\"\n",
    "directory = \"./\"\n",
    "dm_path = directory + filename\n",
    "output_directory = directory \n",
    "\n",
    "# Diffraction Data\n",
    "n_grid = 80  \n",
    "n_pixels = 512 \n",
    "step_size = 10 \n",
    "camera_length = 480\n",
    "\n",
    "print(\"Reading from File %s\\nWriting to Directory %s\" % (dm_path, output_directory))\n",
    "\n",
    "# Calculate values from input data\n",
    "n_images = n_grid**2\n",
    "q_per_pixel = 1152 * np.pi / (camera_length * n_pixels) # At 256 pixels, 1/d = 6nm^-1 for CL=480 (GMS 3 shows 5.996).  \n",
    "                                                        # This is equivalent to 1.2*pi nm^-1 from center to edge. "
   ]
  },
  {
   "cell_type": "markdown",
   "metadata": {},
   "source": [
    "# Prepare Image Centers"
   ]
  },
  {
   "cell_type": "code",
   "execution_count": null,
   "metadata": {},
   "outputs": [],
   "source": [
    "x_offset, y_offset = prep.calculate_centroids(dm_path, n_grid, n_pixels, verbose=False)\n",
    "\n",
    "max_error = 2  # Pixels.  Images farther than this from the fit are omitted.  \n",
    "n_cycles = 10  # Number of times to omit high-error images and re-fit\n",
    "x_centers, y_centers, blocklist = prep.iterative_fit(x_offset, y_offset, n_pixels, max_error, n_cycles)"
   ]
  },
  {
   "cell_type": "markdown",
   "metadata": {},
   "source": [
    "# Prepare Artifacts"
   ]
  },
  {
   "cell_type": "code",
   "execution_count": null,
   "metadata": {},
   "outputs": [],
   "source": [
    "imp.reload(prep)\n",
    "average_image = prep.get_average_centered_image(dm_path, n_pixels, x_centers, y_centers, blocklist, verbose=False)\n",
    "streak_image = prep.get_streak(average_image, verbose=True)\n",
    "plt.imshow(average_image, vmax=50)\n",
    "plt.show()"
   ]
  },
  {
   "cell_type": "markdown",
   "metadata": {},
   "source": [
    "# Conservative Background Subtraction"
   ]
  },
  {
   "cell_type": "code",
   "execution_count": null,
   "metadata": {},
   "outputs": [],
   "source": [
    "current_image = average_image - streak_image\n",
    "background_image = prep.get_background_image(current_image, reduction_factor = 0.9, fit_start=40, fit_end=300, verbose=False)\n"
   ]
  },
  {
   "cell_type": "markdown",
   "metadata": {},
   "source": [
    "# View Corrected Diffraction Patterns"
   ]
  },
  {
   "cell_type": "code",
   "execution_count": null,
   "metadata": {},
   "outputs": [],
   "source": [
    "total_artifact = streak_image + background_image\n",
    "prep.stitch_diffraction_images(dm_path, n_pixels, x_centers, y_centers, blocklist, artifact=total_artifact, low_percentile=80, high_percentile=95, alpha=0.2,\n",
    "                              save=False, output_directory=\"/home2/luke/simulations_paper/figures/\", max_images=1, start_image=0, figsize=(12, 12), filter_size=None,\n",
    "                              patterns_per_block=4, colorbar=False, cmap='viridis')"
   ]
  },
  {
   "cell_type": "markdown",
   "metadata": {},
   "source": [
    "# Integrate and Convert to Q vs Chi"
   ]
  },
  {
   "cell_type": "code",
   "execution_count": null,
   "metadata": {},
   "outputs": [],
   "source": [
    "# Set range and resolution\n",
    "q_min, q_max, q_step = (1.0, 3.0, 0.05) \n",
    "angle_step = 5\n",
    "\n",
    "plt.rc('axes', titlesize=BIGGER_SIZE)\n",
    "q_theta_matrix = prep.integrate_diffraction(dm_path, n_pixels, x_centers, y_centers, \n",
    "                                  q_min, q_max, q_step, angle_step, q_per_pixel,\n",
    "                                  artifact=streak_image, background=background_image, \n",
    "                                  blocklist=blocklist, check_images=5, medfilt_size=3, verbose=False, \n",
    "                                  crosshairs=False, check_vmin=0, check_vmax=20, colorbar=False, big=False,\n",
    "                                  save_check_images=False, save_path='../figures/check_diffraction/')"
   ]
  },
  {
   "cell_type": "code",
   "execution_count": null,
   "metadata": {},
   "outputs": [],
   "source": [
    "path = output_directory + filename.split('.')[0] + '__q %.2f %.2f %.2f a %.2f.npy' % (q_min, q_max, q_step, angle_step)\n",
    "print(path)\n",
    "np.save(path, q_theta_matrix)"
   ]
  },
  {
   "cell_type": "code",
   "execution_count": null,
   "metadata": {},
   "outputs": [],
   "source": []
  }
 ],
 "metadata": {
  "kernelspec": {
   "display_name": "aligned-polymers",
   "language": "python",
   "name": "aligned-polymers"
  },
  "language_info": {
   "codemirror_mode": {
    "name": "ipython",
    "version": 3
   },
   "file_extension": ".py",
   "mimetype": "text/x-python",
   "name": "python",
   "nbconvert_exporter": "python",
   "pygments_lexer": "ipython3",
   "version": "3.9.4"
  }
 },
 "nbformat": 4,
 "nbformat_minor": 4
}
