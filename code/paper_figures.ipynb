{
 "cells": [
  {
   "cell_type": "code",
   "execution_count": null,
   "id": "d35fb780",
   "metadata": {},
   "outputs": [],
   "source": [
    "import sys\n",
    "import numpy as np\n",
    "import matplotlib.pyplot as plt\n",
    "from matplotlib import collections as mc\n",
    "from mpl_toolkits.axes_grid1 import make_axes_locatable\n",
    "import os\n",
    "import pathlib\n",
    "import random\n",
    "import importlib as imp\n",
    "import scipy.stats as stats\n",
    "import scipy.optimize as opt\n",
    "import itertools as iter\n",
    "import math\n",
    "import ipywidgets\n",
    "from tqdm.notebook import tqdm, trange\n",
    "import datetime\n",
    "import time\n",
    "import json\n",
    "import h5py\n",
    "import lmfit\n",
    "import pandas as pd\n",
    "import datetime\n",
    "import psutil\n",
    "\n",
    "import flow_fields as flow\n",
    "import charge_transfer_assets as assets\n",
    "for mod in [flow, assets]:\n",
    "    imp.reload(mod)\n",
    "\n",
    "# Set matplotlib format\n",
    "SMALL_SIZE = 18\n",
    "MEDIUM_SIZE = 20\n",
    "BIGGER_SIZE = 22\n",
    "\n",
    "plt.rc('font', size=SMALL_SIZE)          # controls default text sizes\n",
    "plt.rc('axes', titlesize=SMALL_SIZE)     # fontsize of the axes title\n",
    "plt.rc('axes', labelsize=MEDIUM_SIZE)    # fontsize of the x and y labels\n",
    "plt.rc('xtick', labelsize=SMALL_SIZE)    # fontsize of the tick labels\n",
    "plt.rc('ytick', labelsize=SMALL_SIZE)    # fontsize of the tick labels\n",
    "plt.rc('legend', fontsize=SMALL_SIZE)    # legend fontsize\n",
    "plt.rc('figure', titlesize=BIGGER_SIZE)  # fontsize of the figure title"
   ]
  },
  {
   "cell_type": "code",
   "execution_count": null,
   "id": "33174e69",
   "metadata": {},
   "outputs": [],
   "source": [
    "print('RAM memory % used:', psutil.virtual_memory()[2])\n",
    "print('RAM memory Available: %.1f GB' % (int(psutil.virtual_memory()[1]) / 10.0**9))"
   ]
  },
  {
   "cell_type": "markdown",
   "id": "2d8c5e9c",
   "metadata": {},
   "source": [
    "# Figure 2b"
   ]
  },
  {
   "cell_type": "code",
   "execution_count": null,
   "id": "84625ec3",
   "metadata": {},
   "outputs": [],
   "source": [
    "imp.reload(assets)\n",
    "\n",
    "xyz_path = '../data/chain_geometries'\n",
    "files = np.array([f for f in os.listdir(xyz_path) if 'r50v' in f])\n",
    "field_strengths = [int(f.split('v')[1]) for f in files]\n",
    "sorted_files = files[np.argsort(field_strengths)]\n",
    "sorted_field_strengths = np.sort(field_strengths)\n",
    "step_size = 10  # nm\n",
    "file_number = 10\n",
    "shape = ((80, 80, 1))\n",
    "chain_length = 54  # nm\n",
    "\n",
    "xyz, xyz_full_path = assets.get_xyz(xyz_path, sorted_files, file_number, step_size, rotate=True)\n",
    "chains = assets.ChainSet(xyz, chain_length, xyz_full_path)\n",
    "chains.create_bins(shape)\n",
    "\n",
    "chains.create_bins(shape)\n",
    "chains_image = chains.plot_lines(grid=(15, 15), linewidth=2, method='Color by Bin', alpha=0.5)\n",
    "chains_image.savefig('../figures/Chains_Image.png', dpi=300, bbox_inches='tight')"
   ]
  },
  {
   "cell_type": "markdown",
   "id": "444498ef",
   "metadata": {},
   "source": [
    "# Color Wheel"
   ]
  },
  {
   "cell_type": "code",
   "execution_count": null,
   "id": "6be32997",
   "metadata": {},
   "outputs": [],
   "source": [
    "plt.figure(figsize=(6, 6))\n",
    "color_wheel = assets.plot_color_wheel(length=2000)\n",
    "color_wheel.savefig('../figures/color_wheel.png', dpi=300, transparent=True, bbox_inches='tight')"
   ]
  },
  {
   "cell_type": "markdown",
   "id": "6cf18ed9",
   "metadata": {},
   "source": [
    "# Figure 3a"
   ]
  },
  {
   "cell_type": "code",
   "execution_count": null,
   "id": "5c35d324",
   "metadata": {},
   "outputs": [],
   "source": [
    "# Detailed rate data is not saved after a simulation, so it will be re-computed here.  This may take a few minutes. \n",
    "xyz_path = '../data/chain_geometries'\n",
    "files = np.array([f for f in os.listdir(xyz_path) if 'r50v' in f])\n",
    "field_strengths = [int(f.split('v')[1]) for f in files]\n",
    "sorted_files = files[np.argsort(field_strengths)]\n",
    "sorted_field_strengths = np.sort(field_strengths)\n",
    "step_size = 10  # nm\n",
    "file_number = 10\n",
    "shape = ((80, 80, 1))\n",
    "chain_length = 54  # nm\n",
    "\n",
    "xyz, xyz_full_path = assets.get_xyz(xyz_path, sorted_files, file_number, step_size, rotate=True)\n",
    "chains = assets.ChainSet(xyz, chain_length, xyz_full_path)\n",
    "chains.create_bins(shape)\n",
    "new = assets.PathExperiment()\n",
    "new.compute_rates(chains, 10**6, 0, n_times=5, images=False)"
   ]
  },
  {
   "cell_type": "code",
   "execution_count": null,
   "id": "2b132112",
   "metadata": {},
   "outputs": [],
   "source": [
    "imp.reload(assets)\n",
    "plt.rc('xtick', labelsize=14)    # fontsize of the tick labels\n",
    "\n",
    "\n",
    "plt.figure(figsize=(6, 6))\n",
    "# First Version to get Colorbar the correct size\n",
    "folded_chain = assets.PathExperiment.plot_chain_probability_distribution(new, histogram=False, n_chains=1, start=3711, show=False)\n",
    "folded_chain_size_1 = plt.gcf()\n",
    "plt.show()\n",
    "\n",
    "# Second version to get frame the correct size\n",
    "plt.figure(figsize=(6, 6))\n",
    "folded_chain = assets.PathExperiment.plot_chain_probability_distribution(new, histogram=False, n_chains=1, start=3711, show=False, colorbar=False)\n",
    "plt.gca().set_box_aspect(0.9) # Aspect ratio is still equal to 1 \n",
    "plt.gca().xaxis.set_visible(False)\n",
    "plt.gca().yaxis.set_visible(False)\n",
    "folded_chain_size_2 = plt.gcf()\n",
    "plt.show()\n",
    "\n",
    "plt.rc('font', size=SMALL_SIZE)          # controls default text sizes\n",
    "plt.rc('axes', titlesize=SMALL_SIZE)     # fontsize of the axes title\n",
    "plt.rc('axes', labelsize=MEDIUM_SIZE)    # fontsize of the x and y labels\n",
    "plt.rc('xtick', labelsize=SMALL_SIZE)    # fontsize of the tick labels\n",
    "plt.rc('ytick', labelsize=SMALL_SIZE)    # fontsize of the tick labels\n",
    "plt.rc('legend', fontsize=SMALL_SIZE)    # legend fontsize\n",
    "plt.rc('figure', titlesize=BIGGER_SIZE)  # fontsize of the figure title"
   ]
  },
  {
   "cell_type": "code",
   "execution_count": null,
   "id": "eaa3f9a1",
   "metadata": {},
   "outputs": [],
   "source": [
    "folded_chain_size_1.savefig('../figures/folded_chain_size_1.png', dpi=300)\n",
    "folded_chain_size_2.savefig('../figures/folded_chain_size_2.png', dpi=300)"
   ]
  },
  {
   "cell_type": "markdown",
   "id": "0b8b3a30",
   "metadata": {},
   "source": [
    "# Figure 3 b-c"
   ]
  },
  {
   "cell_type": "code",
   "execution_count": null,
   "id": "6783aa3f",
   "metadata": {},
   "outputs": [],
   "source": [
    "imp.reload(assets)\n",
    "# Load Data\n",
    "file_manager = assets.FileManager('../data/transport_simulations/')\n",
    "\n",
    "# path = '../../../../../media/super/Toshiba8Tb/luke/simulations/data/'\n",
    "# file_manager = assets.FileManager(path)\n",
    "\n",
    "# file_manager.show_options()\n",
    "\n",
    "file_manager.add_files('ct_29_n100/', angle=90)"
   ]
  },
  {
   "cell_type": "code",
   "execution_count": null,
   "id": "2c1e86d1",
   "metadata": {},
   "outputs": [],
   "source": [
    "# Frame b\n",
    "plt.figure(figsize=(6, 6))\n",
    "for f in file_manager.files[::-1]:\n",
    "    if f.field in [10**7, 10**6, 10**5]:\n",
    "        plt.plot(f.move_distances, f.move_frequencies / np.sum(f.move_frequencies), marker='.', linewidth=0, markersize=10)\n",
    "plt.xlim(-30, 30)\n",
    "plt.ylim(0)\n",
    "plt.axvline(x=0, c=(0.8, 0.8, 0.8))\n",
    "plt.legend(['0.1 V/\\u03bcm', '1 V/\\u03bcm', '10 V/\\u03bcm'])\n",
    "plt.xlabel('Distance (nm)')\n",
    "plt.ylabel('Frequency')\n",
    "distance_histogram = plt.gcf()\n",
    "plt.show()"
   ]
  },
  {
   "cell_type": "code",
   "execution_count": null,
   "id": "e56b2f7f",
   "metadata": {},
   "outputs": [],
   "source": [
    "# Frame c\n",
    "\n",
    "plt.figure(figsize=(6, 6))\n",
    "x = [0.1, 1, 10]\n",
    "y = [f.avg_forward_distance for f in file_manager.files][::-1]\n",
    "plt.plot(x, y, marker='s', linewidth=0, markersize=10)\n",
    "plt.xscale('log')\n",
    "plt.xlabel('Field Strength (V/\\u03BCm)')\n",
    "plt.ylabel('Average Distance (nm)')\n",
    "plt.ylim(0)\n",
    "plt.gca().set_box_aspect(1)\n",
    "avg_distance_vs_field = plt.gcf()\n",
    "\n",
    "plt.show()"
   ]
  },
  {
   "cell_type": "code",
   "execution_count": null,
   "id": "4ee945c5",
   "metadata": {},
   "outputs": [],
   "source": [
    "distance_histogram.savefig('../figures/Distance_Histogram.png', dpi=300, bbox_inches='tight')\n",
    "avg_distance_vs_field.savefig('../figures/Average_Distance_Vs_Field.png', dpi=300, bbox_inches='tight')"
   ]
  },
  {
   "cell_type": "markdown",
   "id": "3d966ac8",
   "metadata": {},
   "source": [
    "# Figure 4a"
   ]
  },
  {
   "cell_type": "code",
   "execution_count": null,
   "id": "46c7fe45",
   "metadata": {},
   "outputs": [],
   "source": [
    "imp.reload(assets)\n",
    "file_manager = assets.FileManager('../data/transport_simulations/')\n",
    "file_manager.add_files('ct_30_n10000/')"
   ]
  },
  {
   "cell_type": "code",
   "execution_count": null,
   "id": "8b52fa56",
   "metadata": {},
   "outputs": [],
   "source": [
    "short_time_mobilities = np.zeros(2)\n",
    "long_time_mobilities = np.zeros(2)\n",
    "plt.figure(figsize=(6, 6))\n",
    "\n",
    "for e in file_manager.files:\n",
    "    \n",
    "    if e.angle == 0:\n",
    "        color = (0.2, 0.4, 1)\n",
    "    else:\n",
    "        color = (1, 0.4, 0.2)\n",
    "        \n",
    "    # Set up reused variables\n",
    "    n_blocks, n_charges = e.positions_with_time.shape\n",
    "    end = e.completion_block if e.completion_block < n_blocks else e.completion_block - 1\n",
    "    start = 0\n",
    "    \n",
    "    short_mobility = e.get_plateau_mobility(t_max=(1/e.interchain_rate))\n",
    "    long_mobility = e.get_plateau_mobility(t_min=(1/e.interchain_rate), t_max=e.time_seconds[np.min(e.finish_blocks[np.nonzero(e.finish_blocks)])])\n",
    "    index = 0 if e.angle == 0 else 1\n",
    "    short_time_mobilities[index] = short_mobility\n",
    "    long_time_mobilities[index] = long_mobility    \n",
    "    \n",
    "    time_centers = ((e.time_seconds[1:] + e.time_seconds[:-1]) / 2)\n",
    "    time_values = time_centers[start:end]\n",
    "\n",
    "    field_vpcm = e.field / 10**2\n",
    "    velocity_values = e.avg_velocity[start:end]\n",
    "    mobility_values = velocity_values / field_vpcm  * e.sign\n",
    "    \n",
    "    plt.plot(time_values, mobility_values, linewidth=0, marker='.', markersize=10, c=color, label='$%d^\\circ$ Field ' % e.angle)\n",
    "    \n",
    "\n",
    "plt.xlim(10**-12, 10**-3)\n",
    "plt.ylim(10**-7, 10**-1)\n",
    "plt.gca().set_aspect(9/6)\n",
    "\n",
    "plt.axvline(x=1/e.interchain_rate, c=(0, 0, 0))\n",
    "\n",
    "plt.xlabel('Time (s)')\n",
    "plt.ylabel('Time (s)')\n",
    "plt.ylabel('Average Mobility (cm$^2$/Vs)')\n",
    "plt.xscale('log')\n",
    "plt.yscale('log')\n",
    "\n",
    "plt.legend()\n",
    "mobility_vs_time = plt.gcf()\n",
    "\n",
    "plt.show()\n",
    "\n",
    "print('Short Time Anisotropy Ratio: %.2f' % (short_time_mobilities[0] / short_time_mobilities[1]))\n",
    "print('Long Time Anisotropy Ratio: %.2f' % (long_time_mobilities[0] / long_time_mobilities[1]))"
   ]
  },
  {
   "cell_type": "code",
   "execution_count": null,
   "id": "ba61f14d",
   "metadata": {},
   "outputs": [],
   "source": [
    "mobility_vs_time.savefig('../figures/Mobility_Vs_Time.png', dpi=300, bbox_inches='tight')"
   ]
  },
  {
   "cell_type": "markdown",
   "id": "777e22f2",
   "metadata": {},
   "source": [
    "# Figure 4b-c"
   ]
  },
  {
   "cell_type": "code",
   "execution_count": null,
   "id": "5b325b7b",
   "metadata": {},
   "outputs": [],
   "source": [
    "file_manager = assets.FileManager('../data/transport_simulations/')\n",
    "file_manager.add_files('ct_21_mix/', charge_density=1000)"
   ]
  },
  {
   "cell_type": "code",
   "execution_count": null,
   "id": "0430a3f8",
   "metadata": {},
   "outputs": [],
   "source": [
    "vmin = 0.002\n",
    "vmax = 0.012\n",
    "\n",
    "for angle in [0, 90]:\n",
    "    experiment = file_manager.get_files_where(angle=angle)[0]\n",
    "    print(experiment.angle)\n",
    "    \n",
    "    plt.figure(figsize=(8, 6))\n",
    "    # Include one with colorbar\n",
    "    im = assets.consistent_imshow(experiment.ns_mobility, vmin=vmin, vmax=vmax)\n",
    "    plt.gca().xaxis.set_visible(False)\n",
    "    plt.gca().yaxis.set_visible(False)\n",
    "\n",
    "    colorbar = True\n",
    "    if colorbar:\n",
    "        ax = plt.gca()\n",
    "        divider = make_axes_locatable(ax)\n",
    "        cax = divider.append_axes(\"right\", size=\"5%\", pad=0.2)\n",
    "        cbar = plt.colorbar(im, cax=cax)\n",
    "        cbar.set_label(label='Short-Time Charge Mobility (cm$^2$/Vs)')\n",
    "    \n",
    "    plt.savefig('../figures/ns_mobility_%d_degrees.png' % angle, dpi=300, bbox_inches='tight')\n",
    "\n",
    "    plt.show()\n",
    "        "
   ]
  },
  {
   "cell_type": "markdown",
   "id": "fc8fecc4",
   "metadata": {},
   "source": [
    "# Figure 5a-g"
   ]
  },
  {
   "cell_type": "code",
   "execution_count": null,
   "id": "52ec5da4",
   "metadata": {},
   "outputs": [],
   "source": [
    "imp.reload(assets)\n",
    "file_manager = assets.FileManager('../data/transport_simulations/')\n",
    "# file_manager.add_files('ct_output_09_n100/', angle=90, field=10**6) original version\n",
    "file_manager.add_files('ct_28_n1000/', angle=90, field=10**6)\n",
    "e = file_manager.files[0]"
   ]
  },
  {
   "cell_type": "code",
   "execution_count": null,
   "id": "ed953ec4",
   "metadata": {},
   "outputs": [],
   "source": [
    "images = []\n",
    "# times = np.array([20, 100, 200, 300, 400, 500])*10**-6\n",
    "times = np.array([1, 25, 50, 75, 100, 125])*10**-6\n",
    "for t in times:\n",
    "    plt.figure(figsize=(6, 8))\n",
    "    new = e.plot_density_specific_time(t, normalize_by_total_mean=True, colorbar=False, vmax=10, title=True)\n",
    "    images.append(new)\n"
   ]
  },
  {
   "cell_type": "code",
   "execution_count": null,
   "id": "394fdafe",
   "metadata": {},
   "outputs": [],
   "source": [
    "for time, image in zip(times, images):\n",
    "    image.savefig(\"../figures/Time_of_Flight_%.0f_Microseconds.png\" % (time*10**6), dpi=300, bbox_inches='tight')"
   ]
  },
  {
   "cell_type": "code",
   "execution_count": null,
   "id": "74ab95f3",
   "metadata": {},
   "outputs": [],
   "source": [
    "time_of_flight_total = e.plot_total_density(figsize=(6, 6), normalize_by_mean=True, colorbar=False, title=False, vmax=2)  # 5x brighter than individual time images\n",
    "time_of_flight_total.savefig(\"../figures/Time_of_Flight_Total.png\", dpi=300, bbox_inches='tight')"
   ]
  },
  {
   "cell_type": "code",
   "execution_count": null,
   "id": "edddc2b2",
   "metadata": {},
   "outputs": [],
   "source": []
  },
  {
   "cell_type": "markdown",
   "id": "81394dd4",
   "metadata": {},
   "source": [
    "# Figure 5h"
   ]
  },
  {
   "cell_type": "code",
   "execution_count": null,
   "id": "cc4122dc",
   "metadata": {},
   "outputs": [],
   "source": [
    "imp.reload(assets)\n",
    "file_manager = assets.FileManager('../data/transport_simulations/')\n",
    "# file_manager.add_files('ct_output_09_n100/', angle=0, field=10**6) original version\n",
    "file_manager.add_files('ct_28_n1000/', angle=90)"
   ]
  },
  {
   "cell_type": "code",
   "execution_count": null,
   "id": "d38a69b2",
   "metadata": {},
   "outputs": [],
   "source": [
    "plt.figure(figsize=(8, 8))\n",
    "for f in file_manager.files:\n",
    "    f.unpack_results()\n",
    "    change_in_active_fraction = np.zeros(len(f.time_seconds))\n",
    "    change_in_active_fraction[1:] = -np.diff(f.active_fraction)\n",
    "    plt.plot(f.time_seconds, change_in_active_fraction, marker='.', markersize=10, linewidth=0, label='%.1f V/\\u03bcm' % (f.field / 10**6))\n",
    "    print('Mode: %.1f us' % (f.time_seconds[np.argmax(change_in_active_fraction)] * 10**6) )\n",
    "    print(f.field, f.grand_avg_velocity/10**6)\n",
    "plt.xscale('log')\n",
    "plt.xlim(10**-6, 10**-2)\n",
    "plt.ylim(0)\n",
    "plt.xlabel('Finishing Time (s)')\n",
    "plt.ylabel('Fraction of Charges')\n",
    "plt.legend()\n",
    "plt.gca().set_box_aspect(1)\n",
    "time_of_flight = plt.gcf()\n",
    "plt.show()"
   ]
  },
  {
   "cell_type": "code",
   "execution_count": null,
   "id": "8fb1617d",
   "metadata": {},
   "outputs": [],
   "source": [
    "time_of_flight.savefig('../figures/Time_of_Flight.png', dpi=300)"
   ]
  },
  {
   "cell_type": "markdown",
   "id": "130df342",
   "metadata": {},
   "source": [
    "# Figure 6a"
   ]
  },
  {
   "cell_type": "code",
   "execution_count": null,
   "id": "04847a18",
   "metadata": {},
   "outputs": [],
   "source": [
    "imp.reload(assets)\n",
    "file_manager = assets.FileManager('../data/transport_simulations/')\n",
    "# file_manager = assets.FileManager('../../../../media/super/Toshiba8Tb/luke/simulations/data/')\n",
    "# file_manager.add_files('ct_output_09_n100/', angle=0, field=10**6) approximately original version\n",
    "file_manager.add_files('ct_28_n1000/', angle=90, sign=1)"
   ]
  },
  {
   "cell_type": "code",
   "execution_count": null,
   "id": "3feab1bb",
   "metadata": {},
   "outputs": [],
   "source": [
    "plt.figure(figsize=(6, 6))\n",
    "for f in file_manager.files:\n",
    "    lorenz_curve, gini = f.get_lorenz_curve()\n",
    "    x = np.arange(len(lorenz_curve))  / len(lorenz_curve) * 100  # Number of bins is less than 6400 due to wide absorbing boundary.\n",
    "    plt.plot(x, lorenz_curve, label='%.1f V/\\u03bcm' % (f.field / 10**6))\n",
    "    \n",
    "    if f.field == 10**7:\n",
    "        x_sample = np.array(x)\n",
    "        lorenz_sample = np.array(lorenz_curve)\n",
    "plt.plot(x, x/100, '--', label='Uniform\\nDensity')\n",
    "plt.xlim(0, 100)\n",
    "plt.ylim(0, 1)\n",
    "plt.gca().set_box_aspect(1)\n",
    "plt.grid()\n",
    "plt.legend(fontsize='small')\n",
    "plt.xlabel('Percentile of Charge Density')\n",
    "plt.ylabel('Cumulative Fraction')\n",
    "\n",
    "point_1 = np.argmin((x_sample-90)**2)\n",
    "x_1 = x_sample[point_1]\n",
    "y_1 = lorenz_sample[point_1]\n",
    "plt.plot([x_1, x_1, 100], [1, y_1, y_1], ':', c=(0, 0.5, 1.0))\n",
    "print('The top 10%% of bins have %.0f%% of the charge density' % ((1 - y_1) * 100))\n",
    "\n",
    "point_2 = np.argmin((lorenz_sample-0.1)**2)\n",
    "x_2 = x_sample[point_2]\n",
    "y_2 = lorenz_sample[point_2]\n",
    "plt.plot([x_2, x_2, 0], [0, y_2, y_2], ':', c=(0, 0.5, 1.0))\n",
    "print('The bottom %.0f%% of bins have 10%% of the charge density' % x_2)\n",
    "\n",
    "lorenz_figure = plt.gcf()\n",
    "plt.show()"
   ]
  },
  {
   "cell_type": "code",
   "execution_count": null,
   "id": "6cc1d344",
   "metadata": {},
   "outputs": [],
   "source": [
    "lorenz_figure.savefig('../figures/Lorenz_Figure.png', dpi=300)"
   ]
  },
  {
   "cell_type": "code",
   "execution_count": null,
   "id": "dabd16bf",
   "metadata": {},
   "outputs": [],
   "source": [
    "for f in file_manager.files:\n",
    "    if f.field in [10**5, 10**6, 10**7]:\n",
    "        f.unpack_results() \n",
    "        vmax=3\n",
    "        new = f.plot_total_density(figsize=(6, 8), normalize_by_mean=True, vmax=vmax, colorbar=False, title=False)\n",
    "        new.savefig('../figures/Density_Variation_%.1fV_per_um.png' % (f.field/10**6), dpi=300, bbox_inches='tight')"
   ]
  },
  {
   "cell_type": "markdown",
   "id": "99c6991c",
   "metadata": {},
   "source": [
    "# Figure 7"
   ]
  },
  {
   "cell_type": "code",
   "execution_count": null,
   "id": "08083e5d",
   "metadata": {},
   "outputs": [],
   "source": [
    "imp.reload(assets)\n",
    "file_manager = assets.FileManager('../data/transport_simulations/')\n",
    "file_manager.add_files('ct_16_n100/', angle=0, sign=1, field=10**6)"
   ]
  },
  {
   "cell_type": "code",
   "execution_count": null,
   "id": "2801da84",
   "metadata": {},
   "outputs": [],
   "source": [
    "def remove_character(string, position):\n",
    "    return string[:position] + string[1 + position:]\n",
    "\n",
    "shuffle = file_manager.get_files_where(shuffle=True, align=False, make_rigid=False)\n",
    "align = file_manager.get_files_where(shuffle=False, align=True, make_rigid=False)\n",
    "make_rigid = file_manager.get_files_where(shuffle=False, align=False, make_rigid=True)\n",
    "\n",
    "modify_fraction = np.linspace(0, 1, 5, endpoint=True)\n",
    "\n",
    "plt.figure(figsize=(6, 6))\n",
    "base_mobility = shuffle[0].get_plateau_mobility()\n",
    "plt.axhline(y=base_mobility)\n",
    "for dataset in [shuffle, align, make_rigid]:\n",
    "    for e in dataset:\n",
    "        e.unpack_results()\n",
    "    n = len(dataset)\n",
    "    mobilities = [e.get_plateau_mobility() for e in dataset]  # cm2/Vs\n",
    "    velocities = np.array(mobilities) * 10**4  # cm/s\n",
    "    # distance_per_hop = velocities / interchain_rate * 10**7  # nm\n",
    "    plt.plot(modify_fraction[:n], mobilities[:n], marker='.', markersize=12, linewidth=0)\n",
    "\n",
    "\n",
    "plt.ylim(0, 0.00021)\n",
    "plt.xlabel('Fraction Modified')\n",
    "plt.ylabel('Mobility (cm$^2$/Vs)')\n",
    "\n",
    "ax1 = plt.gca()\n",
    "y_limits = ax1.get_ylim()\n",
    "plt.yticks(np.linspace(0, 2*10**-4, 5))\n",
    "ax1.set_yticklabels([remove_character('%.1e' % x, -2) for x in ax1.get_yticks().tolist()])\n",
    "\n",
    "ax1.legend(['Original', 'Shuffle', 'Align', 'Make Rigid'], fontsize='small')\n",
    "modifications_figure = plt.gcf()\n",
    "plt.gcf().savefig('../figures/Modifications.png', bbox_inches='tight', dpi=300)\n",
    "plt.show()"
   ]
  },
  {
   "cell_type": "code",
   "execution_count": null,
   "id": "a6bb645e",
   "metadata": {},
   "outputs": [],
   "source": [
    "file_manager = assets.FileManager('../data/transport_simulations/')\n",
    "file_manager.add_files('ct_16_n100/', angle=0, sign=1, field=10**6, modify_fraction=1.0)"
   ]
  },
  {
   "cell_type": "code",
   "execution_count": null,
   "id": "52eccdae",
   "metadata": {},
   "outputs": [],
   "source": [
    "for f in file_manager.files:\n",
    "    plt.figure(figsize=(6, 6))\n",
    "    chains = f.chains\n",
    "    chains_image = chains.plot_lines(grid=(15, 15), linewidth=2, method='Color by Bin', alpha=0.5)\n",
    "    if chains.shuffle:\n",
    "        name = 'chains_shuffled'\n",
    "    elif chains.make_rigid:\n",
    "        name = 'chains_rigid'\n",
    "    elif chains.align:\n",
    "        name = 'chains_aligned'\n",
    "    chains_image.savefig('../figures/%s.png' % name, dpi=300, bbox_inches='tight')\n",
    "    plt.show()"
   ]
  },
  {
   "cell_type": "code",
   "execution_count": null,
   "id": "362ea54d",
   "metadata": {},
   "outputs": [],
   "source": []
  }
 ],
 "metadata": {
  "kernelspec": {
   "display_name": "aligned-polymers",
   "language": "python",
   "name": "aligned-polymers"
  },
  "language_info": {
   "codemirror_mode": {
    "name": "ipython",
    "version": 3
   },
   "file_extension": ".py",
   "mimetype": "text/x-python",
   "name": "python",
   "nbconvert_exporter": "python",
   "pygments_lexer": "ipython3",
   "version": "3.9.4"
  }
 },
 "nbformat": 4,
 "nbformat_minor": 5
}
