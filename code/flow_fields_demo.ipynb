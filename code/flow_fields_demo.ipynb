{
 "cells": [
  {
   "cell_type": "code",
   "execution_count": null,
   "metadata": {},
   "outputs": [],
   "source": [
    "import sys\n",
    "import numpy as np\n",
    "import matplotlib.pyplot as plt\n",
    "from matplotlib import collections as mc\n",
    "\n",
    "import os\n",
    "import time\n",
    "import importlib as imp\n",
    "\n",
    "import flow_fields as flow\n",
    "imp.reload(flow)  # Updates any customizations you've made to the module\n",
    "\n",
    "# Set matplotlib format\n",
    "SMALL_SIZE = 12\n",
    "MEDIUM_SIZE = 15\n",
    "BIGGER_SIZE = 18\n",
    "\n",
    "plt.rc('font', size=SMALL_SIZE)          # controls default text sizes\n",
    "plt.rc('axes', titlesize=SMALL_SIZE)     # fontsize of the axes title\n",
    "plt.rc('axes', labelsize=MEDIUM_SIZE)    # fontsize of the x and y labels\n",
    "plt.rc('xtick', labelsize=SMALL_SIZE)    # fontsize of the tick labels\n",
    "plt.rc('ytick', labelsize=SMALL_SIZE)    # fontsize of the tick labels\n",
    "plt.rc('legend', fontsize=SMALL_SIZE)    # legend fontsize\n",
    "plt.rc('figure', titlesize=BIGGER_SIZE)  # fontsize of the figure title"
   ]
  },
  {
   "cell_type": "markdown",
   "metadata": {},
   "source": [
    "# Load Data and Metadata"
   ]
  },
  {
   "cell_type": "code",
   "execution_count": null,
   "metadata": {},
   "outputs": [],
   "source": [
    "# Load preprocessed 4D-STEM data and manually add metadata\n",
    "path = '../data/4DSTEM/'\n",
    "filename = 'sample_preprocessed_data_80x80_ss=10_cl=480__q 1.00 3.00 0.05 a 5.00.npy'\n",
    "\n",
    "q_min, q_max, q_step = (1.0, 3.0, 0.05)\n",
    "angle_step = 5\n",
    "step_size = 10  # nm.  This is the distance separating each diffraction pattern in the 4D-STEM scan.  \n",
    "\n",
    "data = np.load(path + filename)"
   ]
  },
  {
   "cell_type": "markdown",
   "metadata": {},
   "source": [
    "# Choose Integration Range"
   ]
  },
  {
   "cell_type": "code",
   "execution_count": null,
   "metadata": {},
   "outputs": [],
   "source": [
    "# Preview Peak Positions\n",
    "aggregate_plot, difference_plot = flow.preview_intensity_vs_q(data, q_min, q_max, q_step)"
   ]
  },
  {
   "cell_type": "code",
   "execution_count": null,
   "metadata": {},
   "outputs": [],
   "source": [
    "# Use the peak preview to choose the integration range for your peaks.\n",
    "\n",
    "# Note that there are two convoluted peaks represented in the preview, and we only want one of them.  \n",
    "\n",
    "peak_start = 1.6 \n",
    "peak_end = 1.8  # Inclusive\n",
    "\n",
    "integrated_intensity = flow.integrate_peaks(data, q_min, q_max, q_step, peak_start, peak_end)\n",
    "prepped_intensity = flow.format_flow_inputs(integrated_intensity, rotate=True)"
   ]
  },
  {
   "cell_type": "markdown",
   "metadata": {},
   "source": [
    "# Create Flow Plot"
   ]
  },
  {
   "cell_type": "code",
   "execution_count": null,
   "metadata": {},
   "outputs": [],
   "source": [
    "peak_width = 40  # degrees\n",
    "peaks_per_site = 1.2  # This is manually set by the user by viewing the peaks present in the diffraction patterns.  \n",
    "    \n",
    "peak_positions = flow.select_peaks(prepped_intensity, peak_width, peaks_per_site)"
   ]
  },
  {
   "cell_type": "code",
   "execution_count": null,
   "metadata": {},
   "outputs": [],
   "source": [
    "# Create line seeds at each peak\n",
    "seed_density = 2\n",
    "line_seeds = flow.seed_lines(peak_matrix, step_size, seed_density=seed_density)\n",
    "\n",
    "# Extend line seeds to create full lines\n",
    "bend_tolerance = 20\n",
    "curve_resolution = 2\n",
    "propagated_lines = flow.propagate_lines(line_seeds, peak_matrix, step_size, bend_tolerance,\n",
    "                                   curve_resolution=curve_resolution, max_grid_length=100)\n",
    "\n",
    "# Show a preview, using a subset of the propagated lines\n",
    "preview_sparsity = 20\n",
    "propagated_image = flow.plot_solid_lines(propagated_lines, min_length=2, sparsity=preview_sparsity)\n",
    "plt.show()\n",
    "\n",
    "# Thin out lines, reducing overlap between lines and creating a more homogeneous line density.  This prevents the\n",
    "# illusion of high density in regions with good alignment, and makes the image more readable.\n",
    "line_spacing = 1\n",
    "spacing_resolution = 10\n",
    "angle_spacing_degrees = 10\n",
    "max_overlap_fraction = 0.5\n",
    "trimmed_lines = flow.trim_lines(propagated_lines, prepped_intensity_matrix.shape, step_size,\n",
    "                                line_spacing, spacing_resolution, angle_spacing_degrees,\n",
    "                                max_overlap_fraction=max_overlap_fraction, min_length=5, verbose=False)\n",
    "trimmed_image = flow.plot_solid_lines(trimmed_lines)\n",
    "plt.show()\n",
    "\n",
    "# Add intensity data to lines\n",
    "line_data = flow.prepare_line_data(trimmed_lines, prepped_intensity_matrix, step_size)\n",
    "angle_data = line_data[2, :, :]\n",
    "intensity_data = np.array(line_data[4, :, :])\n",
    "n_dims, max_length, n_lines = line_data.shape"
   ]
  },
  {
   "cell_type": "markdown",
   "metadata": {},
   "source": [
    "# Format and Save"
   ]
  },
  {
   "cell_type": "code",
   "execution_count": null,
   "metadata": {},
   "outputs": [],
   "source": [
    "# There are many ways to format the plots.  I suggest keeping settings organized in the format below.\n",
    "\n",
    "format_codes = [0, 1, 2, 3]\n",
    "formatted_plots = []\n",
    "contrast = 3\n",
    "brightness = 1\n",
    "gamma = 1\n",
    "for i, format_code in enumerate(format_codes):\n",
    "    if format_code == 0:\n",
    "        # Constant color, linewidth, and alpha\n",
    "        r, g, b = flow.color_by_angle(np.zeros((max_length, n_lines)))\n",
    "        linewidth = np.ones((max_length, n_lines)) * 1\n",
    "        alpha = np.ones((max_length, n_lines))\n",
    "    elif format_code == 1:\n",
    "        # Color by angle, alpha by intensity\n",
    "        alpha = flow.scale_values(flow.smooth(intensity_data, 9), contrast=contrast, gamma=gamma, brightness=brightness)\n",
    "        linewidth = np.ones((max_length, n_lines)) * 3\n",
    "        r, g, b = flow.color_by_angle(angle_data)\n",
    "    elif format_code == 2:\n",
    "        # Solid Color, alpha by intensity\n",
    "        r, g, b = flow.color_by_angle(np.zeros((max_length, n_lines)))\n",
    "        alpha = flow.scale_values(flow.smooth(intensity_data, 9), contrast=contrast, gamma=gamma, brightness=brightness)\n",
    "        linewidth = np.ones((max_length, n_lines)) * 2\n",
    "    elif format_code == 3:\n",
    "        # Faint lines.  Good for overlays.  \n",
    "        # Solid Color, alpha by intensity\n",
    "        shape = np.ones((max_length, n_lines))\n",
    "        r = shape * 0.95\n",
    "        g = shape * 0.95\n",
    "        b = shape * 0.95\n",
    "        alpha = flow.scale_values(flow.smooth(intensity_data, 9), contrast=contrast, gamma=gamma, brightness=brightness)\n",
    "        linewidth = np.ones((max_length, n_lines)) * 2\n",
    "        \n",
    "\n",
    "    flow.plot_graded_lines(trimmed_lines, r, g, b, alpha, linewidth)\n",
    "    formatted_plots.append(plt.gcf())\n",
    "    plt.show()"
   ]
  },
  {
   "cell_type": "code",
   "execution_count": null,
   "metadata": {},
   "outputs": [],
   "source": []
  },
  {
   "cell_type": "code",
   "execution_count": null,
   "metadata": {},
   "outputs": [],
   "source": [
    "base_filename = \"../figures/sample_3_\"\n",
    "\n",
    "# Save Images\n",
    "images_to_save = [\n",
    "    ('propagated_image', propagated_image),\n",
    "    ('trimmed_image', trimmed_image),\n",
    "    ('flow_solid', formatted_plots[1]),\n",
    "    ('flow_color', formatted_plots[2])\n",
    "]\n",
    "for name, image in images_to_save:\n",
    "    image.savefig(base_filename + name + '.png')\n",
    "    \n",
    "formatted_plots[3].savefig(base_filename + 'flow_overlay' + '.png', transparent=True)"
   ]
  },
  {
   "cell_type": "code",
   "execution_count": null,
   "metadata": {},
   "outputs": [],
   "source": []
  }
 ],
 "metadata": {
  "kernelspec": {
   "display_name": "aligned-polymers",
   "language": "python",
   "name": "aligned-polymers"
  },
  "language_info": {
   "codemirror_mode": {
    "name": "ipython",
    "version": 3
   },
   "file_extension": ".py",
   "mimetype": "text/x-python",
   "name": "python",
   "nbconvert_exporter": "python",
   "pygments_lexer": "ipython3",
   "version": "3.9.4"
  }
 },
 "nbformat": 4,
 "nbformat_minor": 4
}
